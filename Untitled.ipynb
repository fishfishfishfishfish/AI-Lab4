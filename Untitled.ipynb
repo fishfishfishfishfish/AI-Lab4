{
 "cells": [
  {
   "cell_type": "code",
   "execution_count": 1,
   "metadata": {},
   "outputs": [],
   "source": [
    "from csv import reader\n",
    "import utils\n",
    "import SplitStan\n",
    "import numpy\n",
    "import random"
   ]
  },
  {
   "cell_type": "markdown",
   "metadata": {},
   "source": [
    "加载数据"
   ]
  },
  {
   "cell_type": "code",
   "execution_count": 2,
   "metadata": {},
   "outputs": [],
   "source": [
    "# Load a CSV file\n",
    "def load_csv(filename):\n",
    "    file = open(filename, \"r\")\n",
    "    lines = reader(file)\n",
    "    datalist = list(lines)\n",
    "    # 去掉index和id\n",
    "    for row in datalist:\n",
    "        row.pop(0)\n",
    "        row.pop(0)\n",
    "    # 数据第一行为列名\n",
    "    cols_name = datalist.pop(0)\n",
    "    # convert string attributes to integers\n",
    "    for i in range(len(datalist[0])):\n",
    "        utils.str_column_to_float(datalist, i)\n",
    "    return utils.DataSet(cols_name, datalist)"
   ]
  },
  {
   "cell_type": "markdown",
   "metadata": {},
   "source": []
  },
  {
   "cell_type": "code",
   "execution_count": 4,
   "metadata": {},
   "outputs": [],
   "source": [
    "DS = load_csv(\"all.csv\")"
   ]
  },
  {
   "cell_type": "code",
   "execution_count": 5,
   "metadata": {},
   "outputs": [],
   "source": [
    "DST = DS.suffle_col(2)"
   ]
  },
  {
   "cell_type": "code",
   "execution_count": 6,
   "metadata": {},
   "outputs": [
    {
     "data": {
      "text/plain": [
       "(5199, 5199)"
      ]
     },
     "execution_count": 6,
     "metadata": {},
     "output_type": "execute_result"
    }
   ],
   "source": [
    "len(DS.data), len(DST)"
   ]
  },
  {
   "cell_type": "code",
   "execution_count": null,
   "metadata": {},
   "outputs": [],
   "source": [
    "import json\n",
    "js_obj = json.dumps(tree)  \n",
    "file_obj = open('TreeViz//src//test_gini_decision_tree.json', 'w')  \n",
    "file_obj.write(js_obj)  \n",
    "file_obj.close()  "
   ]
  },
  {
   "cell_type": "code",
   "execution_count": null,
   "metadata": {},
   "outputs": [],
   "source": [
    "n_folds = 10\n",
    "max_depth = 5\n",
    "min_size = 1\n",
    "# pro_rec = utils.ProcedureRecorder(len(DS.data))\n",
    "scores = utils.evaluate_algorithm(DS.data, utils.decision_tree, n_folds, SplitStan.gini_index)\n",
    "scores"
   ]
  },
  {
   "cell_type": "code",
   "execution_count": null,
   "metadata": {},
   "outputs": [],
   "source": [
    "res = 0\n",
    "for s in scores:\n",
    "    res += s\n",
    "res/10"
   ]
  },
  {
   "cell_type": "code",
   "execution_count": null,
   "metadata": {},
   "outputs": [],
   "source": [
    "pro_rec = utils.ProcedureRecorder(len(DS.data))\n",
    "tree = utils.build_tree(DS.data, SplitStan.gini_index)\n",
    "# utils.name_cols(DS.cols_name, tree)\n",
    "predictions = list()\n",
    "for row in DS.data:\n",
    "    prediction = utils.predict(tree, row)\n",
    "    predictions.append(prediction)\n",
    "actual = [row[-1] for row in DS.data]\n",
    "accuracy = utils.accuracy_metric(actual, predictions)"
   ]
  },
  {
   "cell_type": "code",
   "execution_count": null,
   "metadata": {},
   "outputs": [],
   "source": [
    "accuracy"
   ]
  }
 ],
 "metadata": {
  "kernelspec": {
   "display_name": "Python 3",
   "language": "python",
   "name": "python3"
  },
  "language_info": {
   "codemirror_mode": {
    "name": "ipython",
    "version": 3
   },
   "file_extension": ".py",
   "mimetype": "text/x-python",
   "name": "python",
   "nbconvert_exporter": "python",
   "pygments_lexer": "ipython3",
   "version": "3.6.4"
  }
 },
 "nbformat": 4,
 "nbformat_minor": 2
}
