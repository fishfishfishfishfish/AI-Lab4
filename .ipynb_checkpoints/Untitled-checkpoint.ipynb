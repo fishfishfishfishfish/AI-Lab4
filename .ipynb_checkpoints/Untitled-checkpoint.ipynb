{
 "cells": [
  {
   "cell_type": "code",
   "execution_count": 1,
   "metadata": {},
   "outputs": [],
   "source": [
    "from csv import reader\n",
    "import utils\n",
    "import SplitStan\n",
    "import numpy\n",
    "import random"
   ]
  },
  {
   "cell_type": "markdown",
   "metadata": {},
   "source": [
    "加载数据"
   ]
  },
  {
   "cell_type": "code",
   "execution_count": 2,
   "metadata": {},
   "outputs": [],
   "source": [
    "# Load a CSV file\n",
    "def load_csv(filename):\n",
    "    file = open(filename, \"r\")\n",
    "    lines = reader(file)\n",
    "    datalist = list(lines)\n",
    "    # 去掉index和id\n",
    "    for row in datalist:\n",
    "        row.pop(0)\n",
    "        row.pop(0)\n",
    "    # 数据第一行为列名\n",
    "    cols_name = datalist.pop(0)\n",
    "    # convert string attributes to integers\n",
    "    for i in range(len(datalist[0])):\n",
    "        utils.str_column_to_float(datalist, i)\n",
    "    return utils.DataSet(cols_name, datalist)"
   ]
  },
  {
   "cell_type": "markdown",
   "metadata": {},
   "source": []
  },
  {
   "cell_type": "code",
   "execution_count": 3,
   "metadata": {},
   "outputs": [],
   "source": [
    "DS = load_csv(\"testFile.csv\")"
   ]
  },
  {
   "cell_type": "code",
   "execution_count": 6,
   "metadata": {},
   "outputs": [
    {
     "data": {
      "text/plain": [
       "[[0.439077936,\n",
       "  0.03183315,\n",
       "  0.036585366,\n",
       "  0.004390779,\n",
       "  0.025246981,\n",
       "  0.019758507,\n",
       "  1.0],\n",
       " [0.442028986, 0.02173913, 0.032438479, 0.0, 0.028985507, 0.007246377, 0.0],\n",
       " [0.414634146, 0.06097561, 0.008426966, 0.0, 0.024390244, 0.012195122, 0.0],\n",
       " [0.426020408,\n",
       "  0.025510204,\n",
       "  0.055555556,\n",
       "  0.00255102,\n",
       "  0.015306122,\n",
       "  0.025510204,\n",
       "  0.0],\n",
       " [0.362204724, 0.031496063, 0.004416404, 0.0, 0.0, 0.0, 0.0],\n",
       " [0.323659306,\n",
       "  0.021451104,\n",
       "  0.038961039,\n",
       "  0.000630915,\n",
       "  0.008832808,\n",
       "  0.018927445,\n",
       "  0.0],\n",
       " [0.5, 0.166666667, 0.004790941, 0.0, 0.0, 0.0, 0.0],\n",
       " [0.347432024, 0.018126888, 0.023023023, 0.0, 0.027190332, 0.018126888, 0.0],\n",
       " [0.351230425, 0.049217002, 0.0, 0.021252796, 0.013422819, 0.015659955, 0.0],\n",
       " [0.333333333, 0.037037037, 0.009009009, 0.0, 0.0, 0.0, 0.0],\n",
       " [0.411552347,\n",
       "  0.027075812,\n",
       "  0.007246377,\n",
       "  0.005415162,\n",
       "  0.012635379,\n",
       "  0.005415162,\n",
       "  0.0],\n",
       " [0.493506494, 0.051948052, 0.0, 0.0, 0.012987013, 0.0, 0.0],\n",
       " [0.469483568, 0.018779343, 0.009063444, 0.0, 0.014084507, 0.009389671, 1.0],\n",
       " [0.374374374,\n",
       "  0.042042042,\n",
       "  0.012755102,\n",
       "  0.006006006,\n",
       "  0.016016016,\n",
       "  0.013013013,\n",
       "  1.0],\n",
       " [0.311711712,\n",
       "  0.025225225,\n",
       "  0.010830325,\n",
       "  0.003603604,\n",
       "  0.005405405,\n",
       "  0.027027027,\n",
       "  1.0],\n",
       " [0.404494382,\n",
       "  0.033707865,\n",
       "  0.031496063,\n",
       "  0.002808989,\n",
       "  0.016853933,\n",
       "  0.011235955,\n",
       "  1.0],\n",
       " [0.2, 0.0, 0.010976948, 0.0, 0.0, 0.0, 1.0],\n",
       " [0.338850174,\n",
       "  0.018292683,\n",
       "  0.014084507,\n",
       "  0.00087108,\n",
       "  0.008710801,\n",
       "  0.011759582,\n",
       "  1.0]]"
      ]
     },
     "execution_count": 6,
     "metadata": {},
     "output_type": "execute_result"
    }
   ],
   "source": [
    "DS.suffle_col(2)"
   ]
  },
  {
   "cell_type": "code",
   "execution_count": null,
   "metadata": {},
   "outputs": [],
   "source": [
    "len(DS.data)"
   ]
  },
  {
   "cell_type": "code",
   "execution_count": null,
   "metadata": {},
   "outputs": [],
   "source": [
    "import json\n",
    "js_obj = json.dumps(tree)  \n",
    "file_obj = open('TreeViz//src//test_gini_decision_tree.json', 'w')  \n",
    "file_obj.write(js_obj)  \n",
    "file_obj.close()  "
   ]
  },
  {
   "cell_type": "code",
   "execution_count": null,
   "metadata": {},
   "outputs": [],
   "source": [
    "n_folds = 10\n",
    "max_depth = 5\n",
    "min_size = 1\n",
    "# pro_rec = utils.ProcedureRecorder(len(DS.data))\n",
    "scores = utils.evaluate_algorithm(DS.data, utils.decision_tree, n_folds, SplitStan.gini_index)\n",
    "scores"
   ]
  },
  {
   "cell_type": "code",
   "execution_count": null,
   "metadata": {},
   "outputs": [],
   "source": [
    "res = 0\n",
    "for s in scores:\n",
    "    res += s\n",
    "res/10"
   ]
  },
  {
   "cell_type": "code",
   "execution_count": null,
   "metadata": {},
   "outputs": [],
   "source": [
    "pro_rec = utils.ProcedureRecorder(len(DS.data))\n",
    "tree = utils.build_tree(DS.data, SplitStan.gini_index)\n",
    "utils.name_cols(DS.cols_name, tree)"
   ]
  }
 ],
 "metadata": {
  "kernelspec": {
   "display_name": "Python 3",
   "language": "python",
   "name": "python3"
  },
  "language_info": {
   "codemirror_mode": {
    "name": "ipython",
    "version": 3
   },
   "file_extension": ".py",
   "mimetype": "text/x-python",
   "name": "python",
   "nbconvert_exporter": "python",
   "pygments_lexer": "ipython3",
   "version": "3.6.4"
  }
 },
 "nbformat": 4,
 "nbformat_minor": 2
}
